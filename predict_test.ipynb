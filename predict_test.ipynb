{
 "cells": [
  {
   "cell_type": "code",
   "execution_count": 48,
   "id": "733328e5",
   "metadata": {},
   "outputs": [],
   "source": [
    "import pandas as pd\n",
    "import requests\n",
    "import json"
   ]
  },
  {
   "cell_type": "code",
   "execution_count": 49,
   "id": "d0105d5c",
   "metadata": {},
   "outputs": [],
   "source": [
    "df = pd.read_csv(\"heart.csv\")\n",
    "df.columns = df.columns.str.lower().str.replace(\" \", \"_\")"
   ]
  },
  {
   "cell_type": "code",
   "execution_count": 50,
   "id": "9f1e345d",
   "metadata": {},
   "outputs": [
    {
     "data": {
      "text/html": [
       "<div>\n",
       "<style scoped>\n",
       "    .dataframe tbody tr th:only-of-type {\n",
       "        vertical-align: middle;\n",
       "    }\n",
       "\n",
       "    .dataframe tbody tr th {\n",
       "        vertical-align: top;\n",
       "    }\n",
       "\n",
       "    .dataframe thead th {\n",
       "        text-align: right;\n",
       "    }\n",
       "</style>\n",
       "<table border=\"1\" class=\"dataframe\">\n",
       "  <thead>\n",
       "    <tr style=\"text-align: right;\">\n",
       "      <th></th>\n",
       "      <th>age</th>\n",
       "      <th>sex</th>\n",
       "      <th>chestpaintype</th>\n",
       "      <th>restingbp</th>\n",
       "      <th>cholesterol</th>\n",
       "      <th>fastingbs</th>\n",
       "      <th>restingecg</th>\n",
       "      <th>maxhr</th>\n",
       "      <th>exerciseangina</th>\n",
       "      <th>oldpeak</th>\n",
       "      <th>st_slope</th>\n",
       "      <th>heartdisease</th>\n",
       "    </tr>\n",
       "  </thead>\n",
       "  <tbody>\n",
       "    <tr>\n",
       "      <th>432</th>\n",
       "      <td>63</td>\n",
       "      <td>M</td>\n",
       "      <td>ASY</td>\n",
       "      <td>170</td>\n",
       "      <td>177</td>\n",
       "      <td>0</td>\n",
       "      <td>Normal</td>\n",
       "      <td>84</td>\n",
       "      <td>Y</td>\n",
       "      <td>2.5</td>\n",
       "      <td>Down</td>\n",
       "      <td>1</td>\n",
       "    </tr>\n",
       "    <tr>\n",
       "      <th>480</th>\n",
       "      <td>58</td>\n",
       "      <td>M</td>\n",
       "      <td>ATA</td>\n",
       "      <td>126</td>\n",
       "      <td>0</td>\n",
       "      <td>1</td>\n",
       "      <td>Normal</td>\n",
       "      <td>110</td>\n",
       "      <td>Y</td>\n",
       "      <td>2.0</td>\n",
       "      <td>Flat</td>\n",
       "      <td>1</td>\n",
       "    </tr>\n",
       "    <tr>\n",
       "      <th>469</th>\n",
       "      <td>56</td>\n",
       "      <td>M</td>\n",
       "      <td>ATA</td>\n",
       "      <td>124</td>\n",
       "      <td>224</td>\n",
       "      <td>1</td>\n",
       "      <td>Normal</td>\n",
       "      <td>161</td>\n",
       "      <td>N</td>\n",
       "      <td>2.0</td>\n",
       "      <td>Flat</td>\n",
       "      <td>0</td>\n",
       "    </tr>\n",
       "    <tr>\n",
       "      <th>808</th>\n",
       "      <td>35</td>\n",
       "      <td>M</td>\n",
       "      <td>ASY</td>\n",
       "      <td>126</td>\n",
       "      <td>282</td>\n",
       "      <td>0</td>\n",
       "      <td>LVH</td>\n",
       "      <td>156</td>\n",
       "      <td>Y</td>\n",
       "      <td>0.0</td>\n",
       "      <td>Up</td>\n",
       "      <td>1</td>\n",
       "    </tr>\n",
       "    <tr>\n",
       "      <th>798</th>\n",
       "      <td>42</td>\n",
       "      <td>F</td>\n",
       "      <td>ASY</td>\n",
       "      <td>102</td>\n",
       "      <td>265</td>\n",
       "      <td>0</td>\n",
       "      <td>LVH</td>\n",
       "      <td>122</td>\n",
       "      <td>N</td>\n",
       "      <td>0.6</td>\n",
       "      <td>Flat</td>\n",
       "      <td>0</td>\n",
       "    </tr>\n",
       "  </tbody>\n",
       "</table>\n",
       "</div>"
      ],
      "text/plain": [
       "     age sex chestpaintype  restingbp  cholesterol  fastingbs restingecg  \\\n",
       "432   63   M           ASY        170          177          0     Normal   \n",
       "480   58   M           ATA        126            0          1     Normal   \n",
       "469   56   M           ATA        124          224          1     Normal   \n",
       "808   35   M           ASY        126          282          0        LVH   \n",
       "798   42   F           ASY        102          265          0        LVH   \n",
       "\n",
       "     maxhr exerciseangina  oldpeak st_slope  heartdisease  \n",
       "432     84              Y      2.5     Down             1  \n",
       "480    110              Y      2.0     Flat             1  \n",
       "469    161              N      2.0     Flat             0  \n",
       "808    156              Y      0.0       Up             1  \n",
       "798    122              N      0.6     Flat             0  "
      ]
     },
     "execution_count": 50,
     "metadata": {},
     "output_type": "execute_result"
    }
   ],
   "source": [
    "samples = df.sample(n = 5)\n",
    "samples"
   ]
  },
  {
   "cell_type": "code",
   "execution_count": 52,
   "id": "07baf490",
   "metadata": {},
   "outputs": [
    {
     "name": "stdout",
     "output_type": "stream",
     "text": [
      "{'heartdisease': True, 'heartdisease_probability': 0.8435608744621277} 1\n",
      "{'heartdisease': True, 'heartdisease_probability': 0.8524554967880249} 1\n",
      "{'heartdisease': False, 'heartdisease_probability': 0.4210931360721588} 0\n",
      "{'heartdisease': False, 'heartdisease_probability': 0.3316635191440582} 1\n",
      "{'heartdisease': False, 'heartdisease_probability': 0.4002295434474945} 0\n"
     ]
    }
   ],
   "source": [
    "# url = 'http://localhost:9696/predict'\n",
    "url = 'https://ml-zoomcamp-project1-alex.herokuapp.com/predict'\n",
    "\n",
    "for sample in samples.apply(lambda x: json.loads(x.to_json()), axis=1):\n",
    "    val = sample.pop('heartdisease', None)\n",
    "    response = requests.post(url, json=sample).json()\n",
    "    print(response, val)"
   ]
  }
 ],
 "metadata": {
  "kernelspec": {
   "display_name": "Python 3 (ipykernel)",
   "language": "python",
   "name": "python3"
  },
  "language_info": {
   "codemirror_mode": {
    "name": "ipython",
    "version": 3
   },
   "file_extension": ".py",
   "mimetype": "text/x-python",
   "name": "python",
   "nbconvert_exporter": "python",
   "pygments_lexer": "ipython3",
   "version": "3.8.11"
  }
 },
 "nbformat": 4,
 "nbformat_minor": 5
}
